{
 "cells": [
  {
   "cell_type": "code",
   "execution_count": 1,
   "metadata": {},
   "outputs": [
    {
     "name": "stderr",
     "output_type": "stream",
     "text": [
      "[nltk_data] Downloading package punkt to /Users/mac/nltk_data...\n",
      "[nltk_data]   Package punkt is already up-to-date!\n"
     ]
    },
    {
     "data": {
      "text/plain": [
       "True"
      ]
     },
     "execution_count": 1,
     "metadata": {},
     "output_type": "execute_result"
    }
   ],
   "source": [
    "import json\n",
    "import nltk\n",
    "import pandas as pd\n",
    "from konlpy.tag import *\n",
    "\n",
    "hannanum = Hannanum()\n",
    "kkma = Kkma()\n",
    "komoran = Komoran()\n",
    "okt = Okt()\n",
    "\n",
    "nltk.download('punkt') "
   ]
  },
  {
   "cell_type": "code",
   "execution_count": 27,
   "metadata": {},
   "outputs": [],
   "source": [
    "file_path = \"./data\"\n",
    "\n",
    "with open('./data/news.json', 'r', encoding='utf-8') as file:\n",
    "    json_data = json.load(file)"
   ]
  },
  {
   "cell_type": "code",
   "execution_count": 28,
   "metadata": {},
   "outputs": [
    {
     "name": "stdout",
     "output_type": "stream",
     "text": [
      "{'id': 'NLRW2200000010.3', 'metadata': {'title': '매일신문 2021년 기사', 'author': '장성혁', 'publisher': '매일신문', 'date': '20210101', 'topic': '미용/건강', 'original_topic': '경제,경제일반||'}, 'paragraph': [{'id': 'NLRW2200000010.3.1', 'form': '지역농협이 다주택자에 대한 주택담보대출을 제한한다.'}, {'id': 'NLRW2200000010.3.2', 'form': \"은행권에서 가계 대출 취급을 강화하자 농협 등 상호금융권에서 대출 신청이 증가하는 '풍선 효과'가 발생할 수 있다는 우려에 따른 조처로 볼 수 있다.\"}, {'id': 'NLRW2200000010.3.3', 'form': '13일 농협중앙회에 따르면 전국 지역농협은 주택이 있는 사람이 수도권 소재 주택을 담보로 또 다른 주택 구입을 위한 대출을 받으려고 할 때 대출 취급을 중단한다. 대출 제한은 다음 주 중 적용될 예정이다.'}, {'id': 'NLRW2200000010.3.4', 'form': '앞서 지역농협에서는 다주택자가 수도권 주택을 담보로 할 때 거치 기간을 두지 않기로 하고 생활안정자금 한도를 1억원으로 제한했는데 추가로 규제를 강화한 것이다.'}, {'id': 'NLRW2200000010.3.5', 'form': \"농협중앙회 관계자는 '은행권 가계 대출 취급 강화·중단에 따라 대출 신청이 늘어날 것으로 예상돼 실수요자 중심의 가계 대출이 지원될 수 있도록 한 것'이라고 말했다.\"}]}\n"
     ]
    }
   ],
   "source": [
    "print(json_data)"
   ]
  },
  {
   "cell_type": "code",
   "execution_count": 29,
   "metadata": {},
   "outputs": [],
   "source": [
    "df_list = []\n",
    "\n",
    "# JSON 데이터를 바로 순회\n",
    "if '경제' in json_data['metadata']['original_topic']:\n",
    "    for paragraph in json_data['paragraph']:\n",
    "        df_list.append(paragraph['form'])\n",
    "\n",
    "df = pd.DataFrame(df_list)\n"
   ]
  },
  {
   "attachments": {},
   "cell_type": "markdown",
   "metadata": {},
   "source": [
    "# 구두점 기점으로 문장 분리"
   ]
  },
  {
   "cell_type": "code",
   "execution_count": 30,
   "metadata": {},
   "outputs": [],
   "source": [
    "df_nltk = []\n",
    "for text in df_list : \n",
    "    sentences = nltk.sent_tokenize(text)\n",
    "    for sentence in sentences :\n",
    "        df_nltk.append(sentence)\n",
    "        \n",
    "df = pd.DataFrame(df_nltk)"
   ]
  },
  {
   "cell_type": "code",
   "execution_count": 31,
   "metadata": {},
   "outputs": [
    {
     "data": {
      "text/plain": [
       "['지역농협이 다주택자에 대한 주택담보대출을 제한한다.',\n",
       " \"은행권에서 가계 대출 취급을 강화하자 농협 등 상호금융권에서 대출 신청이 증가하는 '풍선 효과'가 발생할 수 있다는 우려에 따른 조처로 볼 수 있다.\",\n",
       " '13일 농협중앙회에 따르면 전국 지역농협은 주택이 있는 사람이 수도권 소재 주택을 담보로 또 다른 주택 구입을 위한 대출을 받으려고 할 때 대출 취급을 중단한다.',\n",
       " '대출 제한은 다음 주 중 적용될 예정이다.',\n",
       " '앞서 지역농협에서는 다주택자가 수도권 주택을 담보로 할 때 거치 기간을 두지 않기로 하고 생활안정자금 한도를 1억원으로 제한했는데 추가로 규제를 강화한 것이다.',\n",
       " \"농협중앙회 관계자는 '은행권 가계 대출 취급 강화·중단에 따라 대출 신청이 늘어날 것으로 예상돼 실수요자 중심의 가계 대출이 지원될 수 있도록 한 것'이라고 말했다.\"]"
      ]
     },
     "execution_count": 31,
     "metadata": {},
     "output_type": "execute_result"
    }
   ],
   "source": [
    "df_nltk[:10]"
   ]
  },
  {
   "cell_type": "code",
   "execution_count": 32,
   "metadata": {},
   "outputs": [],
   "source": [
    "exm = [\n",
    "    ['문장1', 'POS1'],\n",
    "    ['문장2', 'POS2'],\n",
    "    ['문장3', 'POS3']\n",
    "]\n",
    "\n",
    "df_pd = pd.DataFrame(exm, columns=['df_txt', 'df_pos'])\n",
    "a = df_pd['df_pos']"
   ]
  },
  {
   "cell_type": "code",
   "execution_count": 33,
   "metadata": {},
   "outputs": [],
   "source": [
    "df_pd = pd.DataFrame(exm,columns=['df_txt','df_pos'])\n",
    "a = df_pd['df_pos']"
   ]
  },
  {
   "cell_type": "code",
   "execution_count": 34,
   "metadata": {},
   "outputs": [],
   "source": [
    "df_J = []\n",
    "\n",
    "for sentence in df_nltk:\n",
    "    exm = komoran.pos(sentence)\n",
    "    df_pd = pd.DataFrame(exm, columns=['df_txt', 'df_pos'])\n",
    "    df_pos = df_pd['df_pos']\n",
    "    if 'JKS' in df_pos == True and 'JKO' in df_pos == True:\n",
    "        df_J.append(sentence)"
   ]
  },
  {
   "cell_type": "code",
   "execution_count": 35,
   "metadata": {},
   "outputs": [
    {
     "data": {
      "text/html": [
       "<div>\n",
       "<style scoped>\n",
       "    .dataframe tbody tr th:only-of-type {\n",
       "        vertical-align: middle;\n",
       "    }\n",
       "\n",
       "    .dataframe tbody tr th {\n",
       "        vertical-align: top;\n",
       "    }\n",
       "\n",
       "    .dataframe thead th {\n",
       "        text-align: right;\n",
       "    }\n",
       "</style>\n",
       "<table border=\"1\" class=\"dataframe\">\n",
       "  <thead>\n",
       "    <tr style=\"text-align: right;\">\n",
       "      <th></th>\n",
       "      <th>df_txt</th>\n",
       "      <th>df_pos</th>\n",
       "    </tr>\n",
       "  </thead>\n",
       "  <tbody>\n",
       "    <tr>\n",
       "      <th>0</th>\n",
       "      <td>이것</td>\n",
       "      <td>NP</td>\n",
       "    </tr>\n",
       "    <tr>\n",
       "      <th>1</th>\n",
       "      <td>은</td>\n",
       "      <td>JX</td>\n",
       "    </tr>\n",
       "    <tr>\n",
       "      <th>2</th>\n",
       "      <td>샘플</td>\n",
       "      <td>NNG</td>\n",
       "    </tr>\n",
       "    <tr>\n",
       "      <th>3</th>\n",
       "      <td>텍스트</td>\n",
       "      <td>NNP</td>\n",
       "    </tr>\n",
       "    <tr>\n",
       "      <th>4</th>\n",
       "      <td>이</td>\n",
       "      <td>VCP</td>\n",
       "    </tr>\n",
       "    <tr>\n",
       "      <th>5</th>\n",
       "      <td>ㅂ니다</td>\n",
       "      <td>EF</td>\n",
       "    </tr>\n",
       "    <tr>\n",
       "      <th>6</th>\n",
       "      <td>.</td>\n",
       "      <td>SF</td>\n",
       "    </tr>\n",
       "  </tbody>\n",
       "</table>\n",
       "</div>"
      ],
      "text/plain": [
       "  df_txt df_pos\n",
       "0     이것     NP\n",
       "1      은     JX\n",
       "2     샘플    NNG\n",
       "3    텍스트    NNP\n",
       "4      이    VCP\n",
       "5    ㅂ니다     EF\n",
       "6      .     SF"
      ]
     },
     "execution_count": 35,
     "metadata": {},
     "output_type": "execute_result"
    }
   ],
   "source": [
    "from konlpy.tag import Komoran\n",
    "\n",
    "komoran = Komoran()\n",
    "\n",
    "# 'data'에 샘플 텍스트를 정의합니다.\n",
    "data = \"이것은 샘플 텍스트입니다.\"\n",
    "\n",
    "# Komoran 형태소 분석 수행\n",
    "exm = komoran.pos(data)\n",
    "\n",
    "# DataFrame 생성\n",
    "df_pd = pd.DataFrame(exm, columns=['df_txt', 'df_pos'])\n",
    "df_pd\n"
   ]
  },
  {
   "cell_type": "code",
   "execution_count": 37,
   "metadata": {},
   "outputs": [],
   "source": [
    "result = []\n",
    "for sentence in df_nltk:\n",
    "    tokens = komoran.pos(sentence)\n",
    "    pos_tags = [pos for word, pos in tokens]\n",
    "    if 'JKS' in pos_tags and 'JKO' in pos_tags:\n",
    "        result.append(sentence)\n"
   ]
  },
  {
   "cell_type": "code",
   "execution_count": 38,
   "metadata": {},
   "outputs": [
    {
     "data": {
      "text/plain": [
       "6"
      ]
     },
     "execution_count": 38,
     "metadata": {},
     "output_type": "execute_result"
    }
   ],
   "source": [
    "len(df_nltk)"
   ]
  },
  {
   "cell_type": "code",
   "execution_count": 39,
   "metadata": {},
   "outputs": [
    {
     "data": {
      "text/plain": [
       "4"
      ]
     },
     "execution_count": 39,
     "metadata": {},
     "output_type": "execute_result"
    }
   ],
   "source": [
    "len(result)"
   ]
  },
  {
   "cell_type": "code",
   "execution_count": 40,
   "metadata": {},
   "outputs": [],
   "source": [
    "result = pd.DataFrame(result)\n",
    "result.to_csv('result.csv',encoding='cp949')"
   ]
  },
  {
   "cell_type": "code",
   "execution_count": 41,
   "metadata": {},
   "outputs": [
    {
     "data": {
      "text/plain": [
       "[]"
      ]
     },
     "execution_count": 41,
     "metadata": {},
     "output_type": "execute_result"
    }
   ],
   "source": [
    "df1 = []\n",
    "df2 = []\n",
    "\n",
    "for sentence in result:\n",
    "    if not isinstance(sentence, str):\n",
    "        continue  # 문자열이 아닌 경우 건너뜁니다.\n",
    "\n",
    "    tokens = komoran.pos(sentence)\n",
    "    pos_tags = [pos for word, pos in tokens]\n",
    "\n",
    "    if pos_tags.count('JKS') == 1 and pos_tags.count('JKO') == 1:\n",
    "        df2.append(sentence)\n",
    "\n",
    "# 결과 출력\n",
    "df2"
   ]
  },
  {
   "cell_type": "code",
   "execution_count": 42,
   "metadata": {},
   "outputs": [
    {
     "data": {
      "text/plain": [
       "0"
      ]
     },
     "execution_count": 42,
     "metadata": {},
     "output_type": "execute_result"
    }
   ],
   "source": [
    "df3 = []\n",
    "for text in df1 :\n",
    "    if '“' in text :\n",
    "        continue\n",
    "    else :\n",
    "        df3.append(text)\n",
    "        \n",
    "len(df3)"
   ]
  },
  {
   "cell_type": "code",
   "execution_count": 43,
   "metadata": {},
   "outputs": [],
   "source": [
    "df3 = pd.DataFrame(df3)"
   ]
  }
 ],
 "metadata": {
  "kernelspec": {
   "display_name": "base",
   "language": "python",
   "name": "python3"
  },
  "language_info": {
   "codemirror_mode": {
    "name": "ipython",
    "version": 3
   },
   "file_extension": ".py",
   "mimetype": "text/x-python",
   "name": "python",
   "nbconvert_exporter": "python",
   "pygments_lexer": "ipython3",
   "version": "3.11.7"
  },
  "orig_nbformat": 4
 },
 "nbformat": 4,
 "nbformat_minor": 2
}
