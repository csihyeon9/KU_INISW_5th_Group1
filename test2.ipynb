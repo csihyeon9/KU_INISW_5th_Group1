{
 "cells": [
  {
   "cell_type": "code",
   "execution_count": 1,
   "metadata": {},
   "outputs": [
    {
     "name": "stdout",
     "output_type": "stream",
     "text": [
      "Dataset: Pubmed()\n",
      "-------------------\n",
      "Number of graphs: 1\n",
      "Number of nodes: 19717\n",
      "Number of features: 500\n",
      "Number of classes: 3\n"
     ]
    }
   ],
   "source": [
    "from torch_geometric.datasets import Planetoid\n",
    " \n",
    "dataset = Planetoid(root='.', name=\"Pubmed\")\n",
    "\n",
    "data = dataset[0]\n",
    " \n",
    "# Print information about the dataset\n",
    "print(f'Dataset: {dataset}')\n",
    "print('-------------------')\n",
    "print(f'Number of graphs: {len(dataset)}')\n",
    "print(f'Number of nodes: {data.x.shape[0]}')\n",
    "print(f'Number of features: {dataset.num_features}')\n",
    "print(f'Number of classes: {dataset.num_classes}')\n",
    " \n",
    "# # Print information about the graph\n",
    "# print(f'\\nGraph:')\n",
    "# print('------')\n",
    "# print(f'Training nodes: {sum(data.train_mask).item()}')\n",
    "# print(f'Evaluation nodes: {sum(data.val_mask).item()}')\n",
    "# print(f'Test nodes: {sum(data.test_mask).item()}')\n",
    "# print(f'Edges are directed: {data.is_directed()}')\n",
    "# print(f'Graph has isolated nodes: {data.has_isolated_nodes()}')\n",
    "# print(f'Graph has loops: {data.has_self_loops()}')\n",
    "\n"
   ]
  },
  {
   "cell_type": "code",
   "execution_count": 2,
   "metadata": {},
   "outputs": [
    {
     "name": "stdout",
     "output_type": "stream",
     "text": [
      "\u001b[1;31mType:\u001b[0m        Planetoid\n",
      "\u001b[1;31mString form:\u001b[0m Pubmed()\n",
      "\u001b[1;31mLength:\u001b[0m      1\n",
      "\u001b[1;31mFile:\u001b[0m        d:\\graphsage\\.venv\\lib\\site-packages\\torch_geometric\\datasets\\planetoid.py\n",
      "\u001b[1;31mDocstring:\u001b[0m  \n",
      "The citation network datasets :obj:`\"Cora\"`, :obj:`\"CiteSeer\"` and\n",
      ":obj:`\"PubMed\"` from the `\"Revisiting Semi-Supervised Learning with Graph\n",
      "Embeddings\" <https://arxiv.org/abs/1603.08861>`_ paper.\n",
      "Nodes represent documents and edges represent citation links.\n",
      "Training, validation and test splits are given by binary masks.\n",
      "\n",
      "Args:\n",
      "    root (str): Root directory where the dataset should be saved.\n",
      "    name (str): The name of the dataset (:obj:`\"Cora\"`, :obj:`\"CiteSeer\"`,\n",
      "        :obj:`\"PubMed\"`).\n",
      "    split (str, optional): The type of dataset split (:obj:`\"public\"`,\n",
      "        :obj:`\"full\"`, :obj:`\"geom-gcn\"`, :obj:`\"random\"`).\n",
      "        If set to :obj:`\"public\"`, the split will be the public fixed split\n",
      "        from the `\"Revisiting Semi-Supervised Learning with Graph\n",
      "        Embeddings\" <https://arxiv.org/abs/1603.08861>`_ paper.\n",
      "        If set to :obj:`\"full\"`, all nodes except those in the validation\n",
      "        and test sets will be used for training (as in the\n",
      "        `\"FastGCN: Fast Learning with Graph Convolutional Networks via\n",
      "        Importance Sampling\" <https://arxiv.org/abs/1801.10247>`_ paper).\n",
      "        If set to :obj:`\"geom-gcn\"`, the 10 public fixed splits from the\n",
      "        `\"Geom-GCN: Geometric Graph Convolutional Networks\"\n",
      "        <https://openreview.net/forum?id=S1e2agrFvS>`_ paper are given.\n",
      "        If set to :obj:`\"random\"`, train, validation, and test sets will be\n",
      "        randomly generated, according to :obj:`num_train_per_class`,\n",
      "        :obj:`num_val` and :obj:`num_test`. (default: :obj:`\"public\"`)\n",
      "    num_train_per_class (int, optional): The number of training samples\n",
      "        per class in case of :obj:`\"random\"` split. (default: :obj:`20`)\n",
      "    num_val (int, optional): The number of validation samples in case of\n",
      "        :obj:`\"random\"` split. (default: :obj:`500`)\n",
      "    num_test (int, optional): The number of test samples in case of\n",
      "        :obj:`\"random\"` split. (default: :obj:`1000`)\n",
      "    transform (callable, optional): A function/transform that takes in an\n",
      "        :obj:`torch_geometric.data.Data` object and returns a transformed\n",
      "        version. The data object will be transformed before every access.\n",
      "        (default: :obj:`None`)\n",
      "    pre_transform (callable, optional): A function/transform that takes in\n",
      "        an :obj:`torch_geometric.data.Data` object and returns a\n",
      "        transformed version. The data object will be transformed before\n",
      "        being saved to disk. (default: :obj:`None`)\n",
      "\n",
      "**STATS:**\n",
      "\n",
      ".. list-table::\n",
      "    :widths: 10 10 10 10 10\n",
      "    :header-rows: 1\n",
      "\n",
      "    * - Name\n",
      "      - #nodes\n",
      "      - #edges\n",
      "      - #features\n",
      "      - #classes\n",
      "    * - Cora\n",
      "      - 2,708\n",
      "      - 10,556\n",
      "      - 1,433\n",
      "      - 7\n",
      "    * - CiteSeer\n",
      "      - 3,327\n",
      "      - 9,104\n",
      "      - 3,703\n",
      "      - 6\n",
      "    * - PubMed\n",
      "      - 19,717\n",
      "      - 88,648\n",
      "      - 500\n",
      "      - 3"
     ]
    }
   ],
   "source": [
    "dataset?"
   ]
  }
 ],
 "metadata": {
  "kernelspec": {
   "display_name": ".venv",
   "language": "python",
   "name": "python3"
  },
  "language_info": {
   "codemirror_mode": {
    "name": "ipython",
    "version": 3
   },
   "file_extension": ".py",
   "mimetype": "text/x-python",
   "name": "python",
   "nbconvert_exporter": "python",
   "pygments_lexer": "ipython3",
   "version": "3.10.0"
  }
 },
 "nbformat": 4,
 "nbformat_minor": 2
}
