{
 "cells": [
  {
   "cell_type": "code",
   "execution_count": 1,
   "metadata": {},
   "outputs": [],
   "source": [
    "import pandas as pd\n",
    "import nltk\n",
    "from nltk import Tree\n",
    "from konlpy.tag import *\n",
    "\n",
    "hannanum = Hannanum()\n",
    "kkma = Kkma()\n",
    "komoran = Komoran()\n",
    "okt = Okt()"
   ]
  },
  {
   "cell_type": "code",
   "execution_count": 2,
   "metadata": {},
   "outputs": [
    {
     "data": {
      "text/html": [
       "<div>\n",
       "<style scoped>\n",
       "    .dataframe tbody tr th:only-of-type {\n",
       "        vertical-align: middle;\n",
       "    }\n",
       "\n",
       "    .dataframe tbody tr th {\n",
       "        vertical-align: top;\n",
       "    }\n",
       "\n",
       "    .dataframe thead th {\n",
       "        text-align: right;\n",
       "    }\n",
       "</style>\n",
       "<table border=\"1\" class=\"dataframe\">\n",
       "  <thead>\n",
       "    <tr style=\"text-align: right;\">\n",
       "      <th></th>\n",
       "      <th>Unnamed: 0</th>\n",
       "      <th>0</th>\n",
       "    </tr>\n",
       "  </thead>\n",
       "  <tbody>\n",
       "    <tr>\n",
       "      <th>0</th>\n",
       "      <td>0</td>\n",
       "      <td>코인텔레그래프는 28일(현지시간) '세계 경제대국들이 현재 어려움에 직면해 있기 때...</td>\n",
       "    </tr>\n",
       "  </tbody>\n",
       "</table>\n",
       "</div>"
      ],
      "text/plain": [
       "   Unnamed: 0                                                  0\n",
       "0           0  코인텔레그래프는 28일(현지시간) '세계 경제대국들이 현재 어려움에 직면해 있기 때..."
      ]
     },
     "execution_count": 2,
     "metadata": {},
     "output_type": "execute_result"
    }
   ],
   "source": [
    "df3 = pd.read_csv('result.csv',encoding='cp949')\n",
    "df3.head()"
   ]
  },
  {
   "cell_type": "code",
   "execution_count": 3,
   "metadata": {},
   "outputs": [
    {
     "data": {
      "text/plain": [
       "1"
      ]
     },
     "execution_count": 3,
     "metadata": {},
     "output_type": "execute_result"
    }
   ],
   "source": [
    "len(df3)"
   ]
  },
  {
   "cell_type": "code",
   "execution_count": 4,
   "metadata": {},
   "outputs": [
    {
     "data": {
      "text/plain": [
       "\"코인텔레그래프는 28일(현지시간) '세계 경제대국들이 현재 어려움에 직면해 있기 때문에 투자자들이 '피난처'로 비트코인을 택할 가능성이 높다'고 분석했다.\""
      ]
     },
     "execution_count": 4,
     "metadata": {},
     "output_type": "execute_result"
    }
   ],
   "source": [
    "sentences = df3['0']\n",
    "sentences[0]"
   ]
  },
  {
   "cell_type": "code",
   "execution_count": 5,
   "metadata": {},
   "outputs": [
    {
     "name": "stdout",
     "output_type": "stream",
     "text": [
      "[\"코인텔레그래프는 28일(현지시간) '세계 경제대국들이\", '때문에 투자자들이', '가능성이']\n",
      "[\"'피난처'로 비트코인을\"]\n",
      "['현재 어려움에 직면해', '있기', '택할', \"높다'고 분석했다.\"]\n"
     ]
    }
   ],
   "source": [
    "data10 = sentences[0].split()\n",
    "\n",
    "sent = []\n",
    "sub = []\n",
    "obj = []\n",
    "rel = []\n",
    "\n",
    "for sentence in data10 :\n",
    "    tokens = komoran.pos(sentence)\n",
    "    sent.append(sentence)\n",
    "    for word, pos in tokens :\n",
    "        if pos == 'JKO'or pos =='JKS' :\n",
    "           if pos =='JKS' :\n",
    "               sub.append(' '.join(sent))   \n",
    "               sent = []\n",
    "               \n",
    "           elif pos =='JKO' :\n",
    "               obj.append(' '.join(sent))\n",
    "               sent = [] \n",
    "        if pos =='XSV' :\n",
    "            rel.append(' '.join(sent))\n",
    "            sent = []\n",
    "        if pos =='VV' :\n",
    "            rel.append(' '.join(sent))\n",
    "            sent = []     \n",
    "\n",
    "print(sub)\n",
    "print(obj)\n",
    "print(rel)"
   ]
  },
  {
   "cell_type": "code",
   "execution_count": 6,
   "metadata": {},
   "outputs": [
    {
     "name": "stdout",
     "output_type": "stream",
     "text": [
      "['가능성이']\n",
      "[\"'피난처'로\", '비트코인을']\n",
      "[\"높다'고\", '분석했다.']\n"
     ]
    }
   ],
   "source": [
    "sub_text = sub[-1].split()\n",
    "obj_text = obj[-1].split()\n",
    "rel_text = rel[-1].split()\n",
    "print(sub_text)\n",
    "print(obj_text)\n",
    "print(rel_text)\n"
   ]
  },
  {
   "attachments": {},
   "cell_type": "markdown",
   "metadata": {},
   "source": [
    "#### 문장에서 sub, obj, rel 분리"
   ]
  },
  {
   "cell_type": "code",
   "execution_count": 7,
   "metadata": {},
   "outputs": [
    {
     "name": "stdout",
     "output_type": "stream",
     "text": [
      "['가능성']\n",
      "['비트코인']\n",
      "['분석']\n"
     ]
    }
   ],
   "source": [
    "\n",
    "subject = []\n",
    "object = []\n",
    "relation =[]\n",
    "\n",
    "for sentence in sub_text :\n",
    "    tokens = komoran.pos(sentence)\n",
    "    pos_tags = [pos for word, pos in tokens]\n",
    "    if 'JKS' not in pos_tags :\n",
    "        subject.append(sentence)\n",
    "    else :\n",
    "        word_list = [word for word, pos in tokens if pos != 'JKS']\n",
    "        joined_word = ''.join(word_list)\n",
    "        subject.append(joined_word)\n",
    "        \n",
    "for sentence in obj_text :\n",
    "    tokens = komoran.pos(sentence)\n",
    "    pos_tags = [pos for word, pos in tokens]\n",
    "    if 'JKO' not in pos_tags :\n",
    "        continue\n",
    "    else :\n",
    "        word_list = [word for word, pos in tokens if pos != 'JKO']\n",
    "        joined_word = ''.join(word_list)\n",
    "        object.append(joined_word)\n",
    "        \n",
    "for sentence in rel_text :\n",
    "    tokens = komoran.pos(sentence)\n",
    "    pos_tags = [pos for word, pos in tokens]\n",
    "    if 'XSV' not in pos_tags  :\n",
    "        continue\n",
    "    else :\n",
    "        word_list = [word for word, pos in tokens if pos == 'NNG']\n",
    "        joined_word = ''.join(word_list)\n",
    "        relation.append(joined_word)\n",
    "        \n",
    "for sentence in rel_text :\n",
    "    tokens = komoran.pos(sentence)\n",
    "    pos_tags = [pos for word, pos in tokens]\n",
    "    if 'VV' not in pos_tags :\n",
    "        continue\n",
    "    else :\n",
    "        relation.append(sentence)\n",
    "        \n",
    "        \n",
    "print(subject)\n",
    "print(object)\n",
    "print(relation)"
   ]
  },
  {
   "attachments": {},
   "cell_type": "markdown",
   "metadata": {},
   "source": [
    "#### 분리한 것에서 필요한 단어 추출"
   ]
  },
  {
   "cell_type": "code",
   "execution_count": 8,
   "metadata": {},
   "outputs": [
    {
     "name": "stdout",
     "output_type": "stream",
     "text": [
      "subject : ['가능성']\n",
      "object : ['비트코인']\n",
      "relation : ['분석']\n",
      "코인텔레그래프는 28일(현지시간) '세계 경제대국들이 현재 어려움에 직면해 있기 때문에 투자자들이 '피난처'로 비트코인을 택할 가능성이 높다'고 분석했다.\n"
     ]
    }
   ],
   "source": [
    "data10 = sentences[0].split()\n",
    "\n",
    "sent = []\n",
    "sub = []\n",
    "obj = []\n",
    "rel = []\n",
    "\n",
    "for sentence in data10 :\n",
    "    tokens = komoran.pos(sentence)\n",
    "    sent.append(sentence)\n",
    "    for word, pos in tokens :\n",
    "        if pos == 'JKO'or pos =='JKS' :\n",
    "           if pos =='JKS' :\n",
    "               sub.append(' '.join(sent))   \n",
    "               sent = []\n",
    "               \n",
    "           elif pos =='JKO' :\n",
    "               obj.append(' '.join(sent))\n",
    "               sent = [] \n",
    "        if pos =='XSV' :\n",
    "            rel.append(' '.join(sent))\n",
    "            sent = []\n",
    "        if pos =='VV' :\n",
    "            rel.append(' '.join(sent))\n",
    "            sent = []    \n",
    "            \n",
    "sub_text = sub[-1].split()\n",
    "obj_text = obj[-1].split()\n",
    "rel_text = rel[-1].split()           \n",
    "            \n",
    "subject = []\n",
    "object = []\n",
    "relation =[]\n",
    "\n",
    "for sentence in sub_text :\n",
    "    tokens = komoran.pos(sentence)\n",
    "    pos_tags = [pos for word, pos in tokens]\n",
    "    if 'JKS' not in pos_tags :\n",
    "        subject.append(sentence)\n",
    "    else :\n",
    "        word_list = [word for word, pos in tokens if pos != 'JKS']\n",
    "        joined_word = ''.join(word_list)\n",
    "        subject.append(joined_word)\n",
    "        \n",
    "for sentence in obj_text :\n",
    "    tokens = komoran.pos(sentence)\n",
    "    pos_tags = [pos for word, pos in tokens]\n",
    "    if 'JKO' not in pos_tags :\n",
    "        continue\n",
    "    else :\n",
    "        word_list = [word for word, pos in tokens if pos != 'JKO']\n",
    "        joined_word = ''.join(word_list)\n",
    "        object.append(joined_word)\n",
    "        \n",
    "for sentence in rel_text :\n",
    "    tokens = komoran.pos(sentence)\n",
    "    pos_tags = [pos for word, pos in tokens]\n",
    "    if 'XSV' not in pos_tags  :\n",
    "        continue\n",
    "    else :\n",
    "        word_list = [word for word, pos in tokens if pos == 'NNG']\n",
    "        joined_word = ''.join(word_list)\n",
    "        relation.append(joined_word)\n",
    "        \n",
    "for sentence in rel_text :\n",
    "    tokens = komoran.pos(sentence)\n",
    "    pos_tags = [pos for word, pos in tokens]\n",
    "    if 'VV' not in pos_tags :\n",
    "        continue\n",
    "    else :\n",
    "        relation.append(sentence)\n",
    "\n",
    "\n",
    "        \n",
    "print(\"subject :\",subject)\n",
    "print(\"object :\",object)\n",
    "print(\"relation :\",relation)\n",
    "print(sentences[0])"
   ]
  },
  {
   "cell_type": "code",
   "execution_count": 9,
   "metadata": {},
   "outputs": [],
   "source": [
    "results = []  # 데이터를 임시 저장할 리스트\n",
    "\n",
    "for df_sent in sentences:\n",
    "    data10 = df_sent.split()\n",
    "    \n",
    "    sent = []\n",
    "    sub = []\n",
    "    obj = []\n",
    "    rel = []\n",
    "\n",
    "    for sentence in data10:\n",
    "        tokens = komoran.pos(sentence)\n",
    "        sent.append(sentence)\n",
    "        for word, pos in tokens:\n",
    "            if pos == 'JKO' or pos == 'JKS':\n",
    "                if pos == 'JKS':\n",
    "                    sub.append(' '.join(sent))\n",
    "                    sent = []\n",
    "                elif pos == 'JKO':\n",
    "                    obj.append(' '.join(sent))\n",
    "                    sent = [] \n",
    "            if pos == 'XSV':\n",
    "                rel.append(' '.join(sent))\n",
    "                sent = []\n",
    "            if pos == 'VV':\n",
    "                rel.append(' '.join(sent))\n",
    "                sent = []    \n",
    "\n",
    "    # 리스트가 비어있으면 기본값 설정\n",
    "    sub_text = sub[-1].split() if sub else []\n",
    "    obj_text = obj[-1].split() if obj else []\n",
    "    rel_text = rel[-1].split() if rel else []\n",
    "\n",
    "    subject = []\n",
    "    object = []\n",
    "    relation = []\n",
    "\n",
    "    for sentence in sub_text:\n",
    "        tokens = komoran.pos(sentence)\n",
    "        pos_tags = [pos for word, pos in tokens]\n",
    "        if 'JKS' not in pos_tags:\n",
    "            subject.append(sentence)\n",
    "        else:\n",
    "            word_list = [word for word, pos in tokens if pos != 'JKS']\n",
    "            joined_word = ''.join(word_list)\n",
    "            subject.append(joined_word)\n",
    "\n",
    "    for sentence in obj_text:\n",
    "        tokens = komoran.pos(sentence)\n",
    "        pos_tags = [pos for word, pos in tokens]\n",
    "        if 'JKO' not in pos_tags:\n",
    "            continue\n",
    "        else:\n",
    "            word_list = [word for word, pos in tokens if pos != 'JKO']\n",
    "            joined_word = ''.join(word_list)\n",
    "            object.append(joined_word)\n",
    "\n",
    "    for sentence in rel_text:\n",
    "        tokens = komoran.pos(sentence)\n",
    "        pos_tags = [pos for word, pos in tokens]\n",
    "        if 'XSV' not in pos_tags:\n",
    "            continue\n",
    "        else:\n",
    "            word_list = [word for word, pos in tokens if pos == 'NNG']\n",
    "            joined_word = ''.join(word_list)\n",
    "            relation.append(joined_word)\n",
    "\n",
    "    for sentence in rel_text:\n",
    "        tokens = komoran.pos(sentence)\n",
    "        pos_tags = [pos for word, pos in tokens]\n",
    "        if 'VV' not in pos_tags:\n",
    "            continue\n",
    "        else:\n",
    "            relation.append(sentence)\n",
    "\n",
    "    subject = ' '.join(subject)\n",
    "    object = ' '.join(object)\n",
    "    relation = ' '.join(relation)\n",
    "    \n",
    "    results.append({\n",
    "        'text': df_sent,\n",
    "        'subject': subject,\n",
    "        'object': object,\n",
    "        'relation': relation\n",
    "    })\n",
    "\n",
    "# 모든 데이터를 한 번에 DataFrame으로 변환\n",
    "df = pd.DataFrame(results)\n"
   ]
  },
  {
   "cell_type": "code",
   "execution_count": 10,
   "metadata": {},
   "outputs": [
    {
     "name": "stdout",
     "output_type": "stream",
     "text": [
      "                                                text subject object relation\n",
      "0  코인텔레그래프는 28일(현지시간) '세계 경제대국들이 현재 어려움에 직면해 있기 때...     가능성   비트코인       분석\n"
     ]
    }
   ],
   "source": [
    "import pandas as pd\n",
    "\n",
    "df = pd.DataFrame(columns=['text', 'subject', 'object', 'relation'])\n",
    "\n",
    "results = []  # 데이터를 임시로 저장할 리스트\n",
    "\n",
    "for df_sent in sentences:\n",
    "    data10 = df_sent.split()\n",
    "    sent = []\n",
    "    sub = []\n",
    "    obj = []\n",
    "    rel = []\n",
    "\n",
    "    for sentence in data10:\n",
    "        tokens = komoran.pos(sentence)\n",
    "        sent.append(sentence)\n",
    "        for word, pos in tokens:\n",
    "            if pos == 'JKO' or pos == 'JKS':\n",
    "                if pos == 'JKS':\n",
    "                    sub.append(' '.join(sent))\n",
    "                    sent = []\n",
    "                elif pos == 'JKO':\n",
    "                    obj.append(' '.join(sent))\n",
    "                    sent = []\n",
    "            if pos == 'XSV' or pos == 'VV':\n",
    "                rel.append(' '.join(sent))\n",
    "                sent = []\n",
    "\n",
    "    # 비어 있는 경우 기본값으로 설정\n",
    "    sub_text = sub[-1].split() if sub else []\n",
    "    obj_text = obj[-1].split() if obj else []\n",
    "    rel_text = rel[-1].split() if rel else []\n",
    "\n",
    "    subject = []\n",
    "    object = []\n",
    "    relation = []\n",
    "\n",
    "    for sentence in sub_text:\n",
    "        tokens = komoran.pos(sentence)\n",
    "        pos_tags = [pos for word, pos in tokens]\n",
    "        if 'JKS' not in pos_tags:\n",
    "            subject.append(sentence)\n",
    "        else:\n",
    "            word_list = [word for word, pos in tokens if pos != 'JKS']\n",
    "            joined_word = ''.join(word_list)\n",
    "            subject.append(joined_word)\n",
    "\n",
    "    for sentence in obj_text:\n",
    "        tokens = komoran.pos(sentence)\n",
    "        pos_tags = [pos for word, pos in tokens]\n",
    "        if 'JKO' not in pos_tags:\n",
    "            continue\n",
    "        else:\n",
    "            word_list = [word for word, pos in tokens if pos != 'JKO']\n",
    "            joined_word = ''.join(word_list)\n",
    "            object.append(joined_word)\n",
    "\n",
    "    for sentence in rel_text:\n",
    "        tokens = komoran.pos(sentence)\n",
    "        pos_tags = [pos for word, pos in tokens]\n",
    "        if 'XSV' in pos_tags:\n",
    "            word_list = [word for word, pos in tokens if pos == 'NNG']\n",
    "            joined_word = ''.join(word_list)\n",
    "            relation.append(joined_word)\n",
    "        elif 'VV' in pos_tags:\n",
    "            relation.append(sentence)\n",
    "\n",
    "    subject = ' '.join(subject)\n",
    "    object = ' '.join(object)\n",
    "    relation = ' '.join(relation)\n",
    "\n",
    "    # 결과 저장\n",
    "    results.append({\n",
    "        'text': df_sent,\n",
    "        'subject': subject,\n",
    "        'object': object,\n",
    "        'relation': relation\n",
    "    })\n",
    "\n",
    "# 한 번에 DataFrame 생성\n",
    "df = pd.DataFrame(results)\n",
    "print(df)\n"
   ]
  },
  {
   "cell_type": "code",
   "execution_count": 11,
   "metadata": {},
   "outputs": [],
   "source": [
    "df.to_csv('new_data.csv',encoding='cp949')"
   ]
  }
 ],
 "metadata": {
  "kernelspec": {
   "display_name": "base",
   "language": "python",
   "name": "python3"
  },
  "language_info": {
   "codemirror_mode": {
    "name": "ipython",
    "version": 3
   },
   "file_extension": ".py",
   "mimetype": "text/x-python",
   "name": "python",
   "nbconvert_exporter": "python",
   "pygments_lexer": "ipython3",
   "version": "3.11.7"
  },
  "orig_nbformat": 4
 },
 "nbformat": 4,
 "nbformat_minor": 2
}
