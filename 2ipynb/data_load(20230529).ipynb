{
 "cells": [
  {
   "cell_type": "code",
   "execution_count": 1,
   "metadata": {},
   "outputs": [
    {
     "name": "stderr",
     "output_type": "stream",
     "text": [
      "[nltk_data] Downloading package punkt to /Users/mac/nltk_data...\n",
      "[nltk_data]   Package punkt is already up-to-date!\n"
     ]
    },
    {
     "data": {
      "text/plain": [
       "True"
      ]
     },
     "execution_count": 1,
     "metadata": {},
     "output_type": "execute_result"
    }
   ],
   "source": [
    "import json\n",
    "import nltk\n",
    "import pandas as pd\n",
    "from konlpy.tag import *\n",
    "\n",
    "hannanum = Hannanum()\n",
    "kkma = Kkma()\n",
    "komoran = Komoran()\n",
    "okt = Okt()\n",
    "\n",
    "nltk.download('punkt') "
   ]
  },
  {
   "cell_type": "code",
   "execution_count": 2,
   "metadata": {},
   "outputs": [],
   "source": [
    "file_path = \"./data\"\n",
    "\n",
    "with open('./data/news.json', 'r', encoding='utf-8') as file:\n",
    "    json_data = json.load(file)"
   ]
  },
  {
   "cell_type": "code",
   "execution_count": 3,
   "metadata": {},
   "outputs": [
    {
     "name": "stdout",
     "output_type": "stream",
     "text": [
      "{'id': 'NLRW2200000010.3', 'metadata': {'title': '매일신문 2021년 기사', 'author': '장성혁', 'publisher': '매일신문', 'date': '20210101', 'topic': '미용/건강', 'original_topic': '경제,경제일반||'}, 'paragraph': [{'id': 'NLRW2200000010.3.1', 'form': '이번주 9만1000달러대까지 떨어졌다 반등한 비트코인이 9만5000달러대에서 횡보하고 있다.'}, {'id': 'NLRW2200000010.3.2', 'form': '29일 오전 9시 50분 빗썸 기준 국내 비트코인 가격은 전날 같은 시간보다 0.6% 떨어진 1억3311만2000원이다.'}, {'id': 'NLRW2200000010.3.3', 'form': '같은 시간 코인마켓캡 기준 해외 비트코인 가격은 전날 같은 시간보다 0.55% 하락한 9만5782달러를 기록했다.'}, {'id': 'NLRW2200000010.3.4', 'form': '앞서 비트코인은 9만9000달러를 돌파하면서 사상 최초 10만달러 돌파를 눈 앞에 두고 큰 폭으로 하락했다.'}, {'id': 'NLRW2200000010.3.5', 'form': '그럼에도 시장은 연말 10만달러 도달 가능성을 염두에 두고 있다.'}, {'id': 'NLRW2200000010.3.6', 'form': \"코인텔레그래프는 28일(현지시간) '세계 경제대국들이 현재 어려움에 직면해 있기 때문에 투자자들이 '피난처'로 비트코인을 택할 가능성이 높다'고 분석했다.\"}, {'id': 'NLRW2200000010.3.6', 'form': '일례로 이날 프랑스 10년 만기 국채 수익률은 3.0010%로, 그리스 국채 수익률(3.030%)과 비슷한 수준이다.'}]}\n"
     ]
    }
   ],
   "source": [
    "print(json_data)"
   ]
  },
  {
   "cell_type": "code",
   "execution_count": 4,
   "metadata": {},
   "outputs": [],
   "source": [
    "df_list = []\n",
    "\n",
    "# JSON 데이터를 바로 순회\n",
    "if '경제' in json_data['metadata']['original_topic']:\n",
    "    for paragraph in json_data['paragraph']:\n",
    "        df_list.append(paragraph['form'])\n",
    "\n",
    "df = pd.DataFrame(df_list)\n"
   ]
  },
  {
   "attachments": {},
   "cell_type": "markdown",
   "metadata": {},
   "source": [
    "# 구두점 기점으로 문장 분리"
   ]
  },
  {
   "cell_type": "code",
   "execution_count": 5,
   "metadata": {},
   "outputs": [],
   "source": [
    "df_nltk = []\n",
    "for text in df_list : \n",
    "    sentences = nltk.sent_tokenize(text)\n",
    "    for sentence in sentences :\n",
    "        df_nltk.append(sentence)\n",
    "        \n",
    "df = pd.DataFrame(df_nltk)"
   ]
  },
  {
   "cell_type": "code",
   "execution_count": 6,
   "metadata": {},
   "outputs": [
    {
     "data": {
      "text/plain": [
       "['이번주 9만1000달러대까지 떨어졌다 반등한 비트코인이 9만5000달러대에서 횡보하고 있다.',\n",
       " '29일 오전 9시 50분 빗썸 기준 국내 비트코인 가격은 전날 같은 시간보다 0.6% 떨어진 1억3311만2000원이다.',\n",
       " '같은 시간 코인마켓캡 기준 해외 비트코인 가격은 전날 같은 시간보다 0.55% 하락한 9만5782달러를 기록했다.',\n",
       " '앞서 비트코인은 9만9000달러를 돌파하면서 사상 최초 10만달러 돌파를 눈 앞에 두고 큰 폭으로 하락했다.',\n",
       " '그럼에도 시장은 연말 10만달러 도달 가능성을 염두에 두고 있다.',\n",
       " \"코인텔레그래프는 28일(현지시간) '세계 경제대국들이 현재 어려움에 직면해 있기 때문에 투자자들이 '피난처'로 비트코인을 택할 가능성이 높다'고 분석했다.\",\n",
       " '일례로 이날 프랑스 10년 만기 국채 수익률은 3.0010%로, 그리스 국채 수익률(3.030%)과 비슷한 수준이다.']"
      ]
     },
     "execution_count": 6,
     "metadata": {},
     "output_type": "execute_result"
    }
   ],
   "source": [
    "df_nltk[:10]"
   ]
  },
  {
   "cell_type": "code",
   "execution_count": 7,
   "metadata": {},
   "outputs": [],
   "source": [
    "exm = [\n",
    "    ['문장1', 'POS1'],\n",
    "    ['문장2', 'POS2'],\n",
    "    ['문장3', 'POS3']\n",
    "]\n",
    "\n",
    "df_pd = pd.DataFrame(exm, columns=['df_txt', 'df_pos'])\n",
    "a = df_pd['df_pos']"
   ]
  },
  {
   "cell_type": "code",
   "execution_count": 8,
   "metadata": {},
   "outputs": [],
   "source": [
    "df_pd = pd.DataFrame(exm,columns=['df_txt','df_pos'])\n",
    "a = df_pd['df_pos']"
   ]
  },
  {
   "cell_type": "code",
   "execution_count": 9,
   "metadata": {},
   "outputs": [],
   "source": [
    "df_J = []\n",
    "\n",
    "for sentence in df_nltk:\n",
    "    exm = komoran.pos(sentence)\n",
    "    df_pd = pd.DataFrame(exm, columns=['df_txt', 'df_pos'])\n",
    "    df_pos = df_pd['df_pos']\n",
    "    if 'JKS' in df_pos == True and 'JKO' in df_pos == True:\n",
    "        df_J.append(sentence)"
   ]
  },
  {
   "cell_type": "code",
   "execution_count": 10,
   "metadata": {},
   "outputs": [
    {
     "data": {
      "text/html": [
       "<div>\n",
       "<style scoped>\n",
       "    .dataframe tbody tr th:only-of-type {\n",
       "        vertical-align: middle;\n",
       "    }\n",
       "\n",
       "    .dataframe tbody tr th {\n",
       "        vertical-align: top;\n",
       "    }\n",
       "\n",
       "    .dataframe thead th {\n",
       "        text-align: right;\n",
       "    }\n",
       "</style>\n",
       "<table border=\"1\" class=\"dataframe\">\n",
       "  <thead>\n",
       "    <tr style=\"text-align: right;\">\n",
       "      <th></th>\n",
       "      <th>df_txt</th>\n",
       "      <th>df_pos</th>\n",
       "    </tr>\n",
       "  </thead>\n",
       "  <tbody>\n",
       "    <tr>\n",
       "      <th>0</th>\n",
       "      <td>이것</td>\n",
       "      <td>NP</td>\n",
       "    </tr>\n",
       "    <tr>\n",
       "      <th>1</th>\n",
       "      <td>은</td>\n",
       "      <td>JX</td>\n",
       "    </tr>\n",
       "    <tr>\n",
       "      <th>2</th>\n",
       "      <td>샘플</td>\n",
       "      <td>NNG</td>\n",
       "    </tr>\n",
       "    <tr>\n",
       "      <th>3</th>\n",
       "      <td>텍스트</td>\n",
       "      <td>NNP</td>\n",
       "    </tr>\n",
       "    <tr>\n",
       "      <th>4</th>\n",
       "      <td>이</td>\n",
       "      <td>VCP</td>\n",
       "    </tr>\n",
       "    <tr>\n",
       "      <th>5</th>\n",
       "      <td>ㅂ니다</td>\n",
       "      <td>EF</td>\n",
       "    </tr>\n",
       "    <tr>\n",
       "      <th>6</th>\n",
       "      <td>.</td>\n",
       "      <td>SF</td>\n",
       "    </tr>\n",
       "  </tbody>\n",
       "</table>\n",
       "</div>"
      ],
      "text/plain": [
       "  df_txt df_pos\n",
       "0     이것     NP\n",
       "1      은     JX\n",
       "2     샘플    NNG\n",
       "3    텍스트    NNP\n",
       "4      이    VCP\n",
       "5    ㅂ니다     EF\n",
       "6      .     SF"
      ]
     },
     "execution_count": 10,
     "metadata": {},
     "output_type": "execute_result"
    }
   ],
   "source": [
    "from konlpy.tag import Komoran\n",
    "\n",
    "komoran = Komoran()\n",
    "\n",
    "# 'data'에 샘플 텍스트를 정의합니다.\n",
    "data = \"이것은 샘플 텍스트입니다.\"\n",
    "\n",
    "# Komoran 형태소 분석 수행\n",
    "exm = komoran.pos(data)\n",
    "\n",
    "# DataFrame 생성\n",
    "df_pd = pd.DataFrame(exm, columns=['df_txt', 'df_pos'])\n",
    "df_pd\n"
   ]
  },
  {
   "cell_type": "code",
   "execution_count": 11,
   "metadata": {},
   "outputs": [],
   "source": [
    "result = []\n",
    "for sentence in df_nltk:\n",
    "    tokens = komoran.pos(sentence)\n",
    "    pos_tags = [pos for word, pos in tokens]\n",
    "    if 'JKS' in pos_tags and 'JKO' in pos_tags:\n",
    "        result.append(sentence)\n"
   ]
  },
  {
   "cell_type": "code",
   "execution_count": 12,
   "metadata": {},
   "outputs": [
    {
     "data": {
      "text/plain": [
       "7"
      ]
     },
     "execution_count": 12,
     "metadata": {},
     "output_type": "execute_result"
    }
   ],
   "source": [
    "len(df_nltk)"
   ]
  },
  {
   "cell_type": "code",
   "execution_count": 13,
   "metadata": {},
   "outputs": [
    {
     "data": {
      "text/plain": [
       "1"
      ]
     },
     "execution_count": 13,
     "metadata": {},
     "output_type": "execute_result"
    }
   ],
   "source": [
    "len(result)"
   ]
  },
  {
   "cell_type": "code",
   "execution_count": 14,
   "metadata": {},
   "outputs": [],
   "source": [
    "result = pd.DataFrame(result)\n",
    "result.to_csv('result.csv',encoding='cp949')"
   ]
  },
  {
   "cell_type": "code",
   "execution_count": 15,
   "metadata": {},
   "outputs": [
    {
     "data": {
      "text/plain": [
       "[]"
      ]
     },
     "execution_count": 15,
     "metadata": {},
     "output_type": "execute_result"
    }
   ],
   "source": [
    "df1 = []\n",
    "df2 = []\n",
    "\n",
    "for sentence in result:\n",
    "    if not isinstance(sentence, str):\n",
    "        continue  # 문자열이 아닌 경우 건너뜁니다.\n",
    "\n",
    "    tokens = komoran.pos(sentence)\n",
    "    pos_tags = [pos for word, pos in tokens]\n",
    "\n",
    "    if pos_tags.count('JKS') == 1 and pos_tags.count('JKO') == 1:\n",
    "        df2.append(sentence)\n",
    "\n",
    "# 결과 출력\n",
    "df2"
   ]
  },
  {
   "cell_type": "code",
   "execution_count": 16,
   "metadata": {},
   "outputs": [
    {
     "data": {
      "text/plain": [
       "0"
      ]
     },
     "execution_count": 16,
     "metadata": {},
     "output_type": "execute_result"
    }
   ],
   "source": [
    "df3 = []\n",
    "for text in df1 :\n",
    "    if '“' in text :\n",
    "        continue\n",
    "    else :\n",
    "        df3.append(text)\n",
    "        \n",
    "len(df3)"
   ]
  },
  {
   "cell_type": "code",
   "execution_count": 17,
   "metadata": {},
   "outputs": [],
   "source": [
    "df3 = pd.DataFrame(df3)"
   ]
  }
 ],
 "metadata": {
  "kernelspec": {
   "display_name": "base",
   "language": "python",
   "name": "python3"
  },
  "language_info": {
   "codemirror_mode": {
    "name": "ipython",
    "version": 3
   },
   "file_extension": ".py",
   "mimetype": "text/x-python",
   "name": "python",
   "nbconvert_exporter": "python",
   "pygments_lexer": "ipython3",
   "version": "3.11.7"
  },
  "orig_nbformat": 4
 },
 "nbformat": 4,
 "nbformat_minor": 2
}
